{
 "cells": [
  {
   "cell_type": "markdown",
   "id": "91824530-2093-4276-9272-8bc00bbaed31",
   "metadata": {},
   "source": [
    "## Examples of Image Analysis"
   ]
  },
  {
   "cell_type": "markdown",
   "id": "616c2df2-3272-44fe-8f27-3767eef60c01",
   "metadata": {},
   "source": [
    "I would like to show some examples of image analysis here.  \n",
    "As the starting point, here is movie."
   ]
  },
  {
   "cell_type": "code",
   "execution_count": 1,
   "id": "1051c1a2-0d12-4580-a98b-b040ee07f974",
   "metadata": {
    "tags": []
   },
   "outputs": [],
   "source": [
    "from IPython.display import Video"
   ]
  },
  {
   "cell_type": "code",
   "execution_count": 2,
   "id": "c1e71256-578b-49d0-8a9c-e4cdb728c75e",
   "metadata": {
    "tags": []
   },
   "outputs": [
    {
     "data": {
      "text/html": [
       "<video src=\"f1-20-4000.mp4\" controls  width=\"560\"  height=\"480\">\n",
       "      Your browser does not support the <code>video</code> element.\n",
       "    </video>"
      ],
      "text/plain": [
       "<IPython.core.display.Video object>"
      ]
     },
     "execution_count": 2,
     "metadata": {},
     "output_type": "execute_result"
    }
   ],
   "source": [
    "Video(data = None, url = None, filename = \"f1-20-4000.mp4\", embed = False, mimetype = None, width = 560, height = 480, html_attributes = \"controls\")\n",
    "# Video(filename = \"f1-20-4000.webm\")"
   ]
  },
  {
   "cell_type": "code",
   "execution_count": 3,
   "id": "45be5387-34e5-4af0-ac90-340890a0f855",
   "metadata": {
    "tags": []
   },
   "outputs": [
    {
     "data": {
      "text/html": [
       "<video width=\"560\" height=\"480\" controls>\n",
       "  <source src=\"f1-20-4000.mp4\" type=\"video/mp4\">\n",
       "</video>\n"
      ],
      "text/plain": [
       "<IPython.core.display.HTML object>"
      ]
     },
     "metadata": {},
     "output_type": "display_data"
    }
   ],
   "source": [
    "%%HTML\n",
    "<video width=\"560\" height=\"480\" controls>\n",
    "  <source src=\"f1-20-4000.mp4\" type=\"video/mp4\">\n",
    "</video>"
   ]
  },
  {
   "cell_type": "code",
   "execution_count": null,
   "id": "349fb1f1-d3fb-4e4f-8481-17acbb16b2da",
   "metadata": {},
   "outputs": [],
   "source": []
  }
 ],
 "metadata": {
  "kernelspec": {
   "display_name": "sagemaker-distribution:Python",
   "language": "python",
   "name": "conda-env-sagemaker-distribution-py"
  },
  "language_info": {
   "codemirror_mode": {
    "name": "ipython",
    "version": 3
   },
   "file_extension": ".py",
   "mimetype": "text/x-python",
   "name": "python",
   "nbconvert_exporter": "python",
   "pygments_lexer": "ipython3",
   "version": "3.10.14"
  }
 },
 "nbformat": 4,
 "nbformat_minor": 5
}
